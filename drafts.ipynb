{
 "cells": [
  {
   "cell_type": "markdown",
   "id": "158b5dac-a2b6-4124-86b3-00ff9fb0e9a5",
   "metadata": {},
   "source": [
    "# Load conf files"
   ]
  },
  {
   "cell_type": "markdown",
   "id": "9a4433ca-f323-4a4f-aaa7-3da658a4de03",
   "metadata": {},
   "source": [
    "## Input API"
   ]
  },
  {
   "cell_type": "code",
   "execution_count": 1,
   "id": "8cc33837-c623-4357-ade4-f427f4196f6f",
   "metadata": {},
   "outputs": [],
   "source": [
    "import tomli\n",
    "import re\n",
    "from uuid import uuid4\n",
    "\n",
    "inputs_conf = 'config/inputs.conf'\n",
    "connections_conf = 'config/connections.conf'\n",
    "\n",
    "with open(inputs_conf) as f:\n",
    "    tmp = f.read()\n",
    "    # .conf files aren't exactly TOML, so we need to format it a bit\n",
    "    # first before we can load it\n",
    "    tmp_formatted = re.sub(r\"(\\s*=\\s*)(.*)\", r\"\\1'\\2'\", tmp)\n",
    "    tomli_inputs = tomli.loads(tmp_formatted).items()\n",
    "\n",
    "with open(connections_conf) as f:\n",
    "    tmp = f.read()\n",
    "    tmp_formatted = re.sub(r\"(\\s*=\\s*)(.*)\", r\"\\1'\\2'\", tmp)\n",
    "    tomli_connections = tomli.loads(tmp_formatted).items()"
   ]
  },
  {
   "cell_type": "code",
   "execution_count": 30,
   "id": "515b34a6-2f98-408a-bed8-8d07ea5dfaef",
   "metadata": {
    "collapsed": true,
    "jupyter": {
     "outputs_hidden": true
    }
   },
   "outputs": [
    {
     "data": {
      "text/plain": [
       "dict_items([('assignmentgroups', {'connection': 'TOOLX_P', 'disabled': '0', 'host': 'host1', 'index': 'indexx', 'index_time_mode': 'current', 'interval': '0 6 * * *', 'max_rows': '100000', 'mode': 'batch', 'query': 'SELECT * FROM \"OWNER\".\"ASSIGNMENT_GROUPS_SPLUNK\"', 'source': 'toolx', 'sourcetype': 'assignmentgroups'}), ('CI_relations', {'connection': 'TOOLX_P', 'disabled': '0', 'host': 'host1', 'index': 'indexx', 'index_time_mode': 'current', 'interval': '0 5 * * *', 'max_rows': '1000000', 'mode': 'batch', 'query': 'SELECT * FROM \"OWNER\".\"RELATIONSHIP_SPLUNK\"', 'source': 'toolx', 'sourcetype': 'ci_relations'}), ('config_full', {'connection': 'TOOLY_P', 'description': 'Get all config daily', 'disabled': '0', 'host': 'host2', 'index': 'indexy', 'index_time_mode': 'current', 'interval': '0 4 * * *', 'max_rows': '1000000', 'mode': 'batch', 'query': 'SELECT * FROM \"OWNER\".\"CONFIG_SPLUNK\"', 'query_timeout': '300', 'source': 'tooly', 'sourcetype': 'tooly'})])"
      ]
     },
     "execution_count": 30,
     "metadata": {},
     "output_type": "execute_result"
    }
   ],
   "source": [
    "tomli_inputs"
   ]
  },
  {
   "cell_type": "code",
   "execution_count": 12,
   "id": "65849d97-2557-4f2d-82d0-996d3ac15572",
   "metadata": {
    "collapsed": true,
    "jupyter": {
     "outputs_hidden": true
    }
   },
   "outputs": [
    {
     "data": {
      "text/plain": [
       "{'assignmentgroups': {'connection': 'TOOLX_P',\n",
       "  'disabled': '0',\n",
       "  'host': 'host1',\n",
       "  'index': 'indexx',\n",
       "  'index_time_mode': 'current',\n",
       "  'interval': '0 6 * * *',\n",
       "  'max_rows': '100000',\n",
       "  'mode': 'batch',\n",
       "  'query': 'SELECT * FROM \"OWNER\".\"ASSIGNMENT_GROUPS_SPLUNK\"',\n",
       "  'source': 'toolx',\n",
       "  'sourcetype': 'assignmentgroups'},\n",
       " 'CI_relations': {'connection': 'TOOLX_P',\n",
       "  'disabled': '0',\n",
       "  'host': 'host1',\n",
       "  'index': 'indexx',\n",
       "  'index_time_mode': 'current',\n",
       "  'interval': '0 5 * * *',\n",
       "  'max_rows': '1000000',\n",
       "  'mode': 'batch',\n",
       "  'query': 'SELECT * FROM \"OWNER\".\"RELATIONSHIP_SPLUNK\"',\n",
       "  'source': 'toolx',\n",
       "  'sourcetype': 'ci_relations'},\n",
       " 'config_full': {'connection': 'TOOLY_P',\n",
       "  'description': 'Get all config daily',\n",
       "  'disabled': '0',\n",
       "  'host': 'host2',\n",
       "  'index': 'indexy',\n",
       "  'index_time_mode': 'current',\n",
       "  'interval': '0 4 * * *',\n",
       "  'max_rows': '1000000',\n",
       "  'mode': 'batch',\n",
       "  'query': 'SELECT * FROM \"OWNER\".\"CONFIG_SPLUNK\"',\n",
       "  'query_timeout': '300',\n",
       "  'source': 'tooly',\n",
       "  'sourcetype': 'tooly'}}"
      ]
     },
     "execution_count": 12,
     "metadata": {},
     "output_type": "execute_result"
    }
   ],
   "source": [
    "dict(tomli_inputs)#['assignmentgroups']['connection']"
   ]
  },
  {
   "cell_type": "code",
   "execution_count": 13,
   "id": "09917acb-ce7e-4f27-a618-d196e2483c19",
   "metadata": {
    "collapsed": true,
    "jupyter": {
     "outputs_hidden": true
    }
   },
   "outputs": [
    {
     "data": {
      "text/plain": [
       "{'TOOLX_P': {'connection_type': 'oracle_service',\n",
       "  'customizedJdbcUrl': 'jdbc:oracle:thin:@(DESCRIPTION_LIST=(LOAD_BALANCE=off)(FAILOVER=on)(DESCRIPTION=(CONNECT_TIMEOUT=5)(TRANSPORT_CONNECT_TIMEOUT=3)(RETRY_COUNT=3)(ADDRESS_LIST=(LOAD_BALANCE=on)(ADDRESS=(PROTOCOL=TCP)(HOST=host.sample.com)(PORT=39000)))(CONNECT_DATA=(SERVICE_NAME=DATABASESAMPLENAME)))(DESCRIPTION=(CONNECT_TIMEOUT=5)(TRANSPORT_CONNECT_TIMEOUT=3)(RETRY_COUNT=3)(ADDRESS_LIST=(LOAD_BALANCE=on)(ADDRESS=(PROTOCOL=TCP)(HOST=host.sample.com)(PORT=39000)))(CONNECT_DATA=(SERVICE_NAME=DATABASESAMPLENAME))))',\n",
       "  'database': 'DATABASESAMPLENAME',\n",
       "  'disabled': '0',\n",
       "  'host': 'host.sample.com',\n",
       "  'identity': 'TOOLX_P',\n",
       "  'jdbcUseSSL': 'false',\n",
       "  'localTimezoneConversionEnabled': 'false',\n",
       "  'port': '39000',\n",
       "  'readonly': 'true',\n",
       "  'timezone': 'Europe/Amsterdam'},\n",
       " 'TOOLY_P': {'connection_type': 'oracle_service',\n",
       "  'database': 'DATABASESAMPLENAMEY',\n",
       "  'disabled': '0',\n",
       "  'host': 'host2.cinqict.nl',\n",
       "  'identity': 'TOOLY_P',\n",
       "  'jdbcUseSSL': 'false',\n",
       "  'localTimezoneConversionEnabled': 'false',\n",
       "  'port': '39000',\n",
       "  'readonly': 'false'}}"
      ]
     },
     "execution_count": 13,
     "metadata": {},
     "output_type": "execute_result"
    }
   ],
   "source": [
    "dict(tomli_connections)#.keys()"
   ]
  },
  {
   "cell_type": "markdown",
   "id": "bf082b2f-bd57-40ae-a381-e00f66a8f655",
   "metadata": {},
   "source": [
    "Inputs{connection} -> connections[...]"
   ]
  },
  {
   "cell_type": "markdown",
   "id": "26c43747-4768-4c6e-946f-523ce0e0ec1e",
   "metadata": {},
   "source": [
    "# Re organize data to make 2 batches, one for the Input API and another for Connections API"
   ]
  },
  {
   "cell_type": "markdown",
   "id": "26992cd2-9a9f-4764-8a2c-3a4c4e2abb7d",
   "metadata": {},
   "source": [
    "## Input API"
   ]
  },
  {
   "cell_type": "code",
   "execution_count": 2,
   "id": "1a605245-b81e-4b89-8761-23d5dd019bac",
   "metadata": {},
   "outputs": [],
   "source": [
    "merged_data = {}\n",
    "dict_inputs = dict(tomli_inputs)\n",
    "dict_connections = dict(tomli_connections)\n",
    "\n",
    "for key, input_value in dict_inputs.items():\n",
    "    connection_key = input_value.get(\"connection\")\n",
    "    connection_data = dict_connections.get(connection_key, {})\n",
    "    merged_data[key] = {**input_value, **connection_data}"
   ]
  },
  {
   "cell_type": "markdown",
   "id": "5d1add8e-3ab6-4bfa-8673-292a28dc383c",
   "metadata": {},
   "source": [
    "# Convert values"
   ]
  },
  {
   "cell_type": "markdown",
   "id": "884db764-c85a-4549-ac8b-5124cc5720bc",
   "metadata": {
    "jupyter": {
     "source_hidden": true
    }
   },
   "source": [
    "## schedule.enabled -> disabled\n",
    "\n",
    "Because Splunk talks about disabled and Cribl about enabled the states need to be transformed to the opposite value. Cribl only allows true or false booleans where Splunk allows 0 and 1 numbers as well; these need to be transformed.\n",
    "\n",
    "| From | To |\n",
    "| :---- | :---- |\n",
    "| true | false |\n",
    "| false | true |\n",
    "| 1 | false |\n",
    "| 0 | true |\n"
   ]
  },
  {
   "cell_type": "code",
   "execution_count": 3,
   "id": "4de327e9-bac5-4109-945b-e3080f49160a",
   "metadata": {},
   "outputs": [],
   "source": [
    "def transform_disabled_values(data):\n",
    "    for key, sub_dict in data.items():\n",
    "        if 'disabled' in sub_dict:\n",
    "            value = sub_dict['disabled']\n",
    "            if isinstance(value, str):\n",
    "                value = value.lower()\n",
    "            if value in ['true', 1, True, '1']:\n",
    "                sub_dict['disabled'] = False\n",
    "            elif value in ['false', 0, False, '0']:\n",
    "                sub_dict['disabled'] = True\n",
    "    return data\n",
    "\n",
    "transformed_merged_data = transform_disabled_values(merged_data)\n"
   ]
  },
  {
   "cell_type": "code",
   "execution_count": 4,
   "id": "68013bb5-543b-4f52-bc4d-cf6b35f56d98",
   "metadata": {},
   "outputs": [],
   "source": [
    "tomli_input = transformed_merged_data.items()"
   ]
  },
  {
   "cell_type": "code",
   "execution_count": 5,
   "id": "abd21be9-a6ba-4568-8ad5-10da0c3b3a53",
   "metadata": {},
   "outputs": [
    {
     "data": {
      "text/plain": [
       "dict_items([('assignmentgroups', {'connection': 'TOOLX_P', 'disabled': True, 'host': 'host.sample.com', 'index': 'indexx', 'index_time_mode': 'current', 'interval': '0 6 * * *', 'max_rows': '100000', 'mode': 'batch', 'query': 'SELECT * FROM \"OWNER\".\"ASSIGNMENT_GROUPS_SPLUNK\"', 'source': 'toolx', 'sourcetype': 'assignmentgroups', 'connection_type': 'oracle_service', 'customizedJdbcUrl': 'jdbc:oracle:thin:@(DESCRIPTION_LIST=(LOAD_BALANCE=off)(FAILOVER=on)(DESCRIPTION=(CONNECT_TIMEOUT=5)(TRANSPORT_CONNECT_TIMEOUT=3)(RETRY_COUNT=3)(ADDRESS_LIST=(LOAD_BALANCE=on)(ADDRESS=(PROTOCOL=TCP)(HOST=host.sample.com)(PORT=39000)))(CONNECT_DATA=(SERVICE_NAME=DATABASESAMPLENAME)))(DESCRIPTION=(CONNECT_TIMEOUT=5)(TRANSPORT_CONNECT_TIMEOUT=3)(RETRY_COUNT=3)(ADDRESS_LIST=(LOAD_BALANCE=on)(ADDRESS=(PROTOCOL=TCP)(HOST=host.sample.com)(PORT=39000)))(CONNECT_DATA=(SERVICE_NAME=DATABASESAMPLENAME))))', 'database': 'DATABASESAMPLENAME', 'identity': 'TOOLX_P', 'jdbcUseSSL': 'false', 'localTimezoneConversionEnabled': 'false', 'port': '39000', 'readonly': 'true', 'timezone': 'Europe/Amsterdam'}), ('CI_relations', {'connection': 'TOOLX_P', 'disabled': True, 'host': 'host.sample.com', 'index': 'indexx', 'index_time_mode': 'current', 'interval': '0 5 * * *', 'max_rows': '1000000', 'mode': 'batch', 'query': 'SELECT * FROM \"OWNER\".\"RELATIONSHIP_SPLUNK\"', 'source': 'toolx', 'sourcetype': 'ci_relations', 'connection_type': 'oracle_service', 'customizedJdbcUrl': 'jdbc:oracle:thin:@(DESCRIPTION_LIST=(LOAD_BALANCE=off)(FAILOVER=on)(DESCRIPTION=(CONNECT_TIMEOUT=5)(TRANSPORT_CONNECT_TIMEOUT=3)(RETRY_COUNT=3)(ADDRESS_LIST=(LOAD_BALANCE=on)(ADDRESS=(PROTOCOL=TCP)(HOST=host.sample.com)(PORT=39000)))(CONNECT_DATA=(SERVICE_NAME=DATABASESAMPLENAME)))(DESCRIPTION=(CONNECT_TIMEOUT=5)(TRANSPORT_CONNECT_TIMEOUT=3)(RETRY_COUNT=3)(ADDRESS_LIST=(LOAD_BALANCE=on)(ADDRESS=(PROTOCOL=TCP)(HOST=host.sample.com)(PORT=39000)))(CONNECT_DATA=(SERVICE_NAME=DATABASESAMPLENAME))))', 'database': 'DATABASESAMPLENAME', 'identity': 'TOOLX_P', 'jdbcUseSSL': 'false', 'localTimezoneConversionEnabled': 'false', 'port': '39000', 'readonly': 'true', 'timezone': 'Europe/Amsterdam'}), ('config_full', {'connection': 'TOOLY_P', 'description': 'Get all config daily', 'disabled': True, 'host': 'host2.cinqict.nl', 'index': 'indexy', 'index_time_mode': 'current', 'interval': '0 4 * * *', 'max_rows': '1000000', 'mode': 'batch', 'query': 'SELECT * FROM \"OWNER\".\"CONFIG_SPLUNK\"', 'query_timeout': '300', 'source': 'tooly', 'sourcetype': 'tooly', 'connection_type': 'oracle_service', 'database': 'DATABASESAMPLENAMEY', 'identity': 'TOOLY_P', 'jdbcUseSSL': 'false', 'localTimezoneConversionEnabled': 'false', 'port': '39000', 'readonly': 'false'})])"
      ]
     },
     "execution_count": 5,
     "metadata": {},
     "output_type": "execute_result"
    }
   ],
   "source": [
    "tomli_input"
   ]
  },
  {
   "cell_type": "markdown",
   "id": "d96b43fe-d7b8-4c2a-9cac-e9be13e21650",
   "metadata": {},
   "source": [
    "# Schemas that include aliases"
   ]
  },
  {
   "cell_type": "markdown",
   "id": "dfe21305-0c49-45c6-870f-f743852eea0a",
   "metadata": {},
   "source": [
    "## Inputs API Schema"
   ]
  },
  {
   "cell_type": "code",
   "execution_count": 6,
   "id": "d89e8ca5-90eb-4aa5-8992-3d6a7bc5cd5e",
   "metadata": {},
   "outputs": [],
   "source": [
    "from pydantic import BaseModel, Field, AliasChoices\n",
    "from typing import List, Optional\n",
    "schema = BaseModel"
   ]
  },
  {
   "cell_type": "markdown",
   "id": "ee8d0486-2d8e-49d7-9268-45484e9fdd09",
   "metadata": {},
   "source": [
    "get the right input schema according to curl. Include default values. Include aliases."
   ]
  },
  {
   "cell_type": "code",
   "execution_count": null,
   "id": "27d9b66a-38f1-400f-898a-0646361af68e",
   "metadata": {},
   "outputs": [],
   "source": [
    "class Metadata(BaseModel):\n",
    "    name: str\n",
    "    value: str \n",
    "class Run(BaseModel):\n",
    "    mode: str\n",
    "    \n",
    "class Schedule(BaseModel):\n",
    "    cronSchedule: str = Field(alias='interval') \n",
    "    run: Run\n",
    "    enabled: bool = Field(alias ='disabled')\n",
    "\n",
    "class CollectorConf(BaseModel):\n",
    "    connectionId: str = Field(alias='connection')\n",
    "    query: str\n",
    "\n",
    "class Collector(BaseModel):\n",
    "    conf: CollectorConf\n",
    "    type: str = \"database\"\n",
    "\n",
    "class InputType(BaseModel):\n",
    "    type: str = \"collection\"\n",
    "    metadata: List[Metadata] = [\n",
    "        Metadata(name=\"host\", value=Field(\"default_host\", alias=\"host\")),\n",
    "        Metadata(name=\"index\", value=Field(\"default_index\", alias=\"index\")),\n",
    "        Metadata(name=\"source\", value=Field(\"default_source\", alias=\"source\")),\n",
    "        Metadata(name=\"sourcetype\", value=Field(\"default_sourcetype\", alias=\"sourcetype\"))\n",
    "    ]\n",
    "\n",
    "class InputSchema(BaseModel):\n",
    "    type: Optional[str] =  \"collection\"\n",
    "    schedule: Schedule\n",
    "    collector: Collector\n",
    "    input: InputType\n",
    "    id: Optional[str]\n",
    "\n",
    "result = [InputSchema(**row, id=f\"{key}-{uuid4()}\") for key, row in tomli_input]"
   ]
  },
  {
   "cell_type": "code",
   "execution_count": null,
   "id": "840a5c9e-ada4-429e-baff-4a4cc885d09e",
   "metadata": {},
   "outputs": [],
   "source": []
  },
  {
   "cell_type": "code",
   "execution_count": 7,
   "id": "154e8e4b-7ef9-43ed-884b-6d0d9f7353ad",
   "metadata": {},
   "outputs": [],
   "source": [
    "from pydantic import BaseModel, Field\n",
    "from typing import List, Optional\n",
    "from uuid import uuid4\n",
    "\n",
    "class Metadata(BaseModel):\n",
    "    name: str\n",
    "    value: str\n",
    "\n",
    "class Run(BaseModel):\n",
    "    mode: str\n",
    "\n",
    "class Schedule(BaseModel):\n",
    "    cronSchedule: str = Field(alias='interval')\n",
    "    run: Run\n",
    "    enabled: bool = Field(alias='disabled')\n",
    "\n",
    "class CollectorConf(BaseModel):\n",
    "    connectionId: str = Field(alias='connection')\n",
    "    query: str\n",
    "\n",
    "class Collector(BaseModel):\n",
    "    conf: CollectorConf\n",
    "    type: str = \"database\"\n",
    "\n",
    "class InputType(BaseModel):\n",
    "    type: str = \"collection\"\n",
    "    metadata: List[Metadata]\n",
    "\n",
    "class InputSchema(BaseModel):\n",
    "    type: Optional[str] = \"collection\"\n",
    "    schedule: Schedule\n",
    "    collector: Collector\n",
    "    input: InputType\n",
    "    id: Optional[str]\n",
    "\n",
    "# Transform `tomli_input` data to match `metadata` requirements\n",
    "def create_metadata(data):\n",
    "    return [\n",
    "        Metadata(name=\"host\", value=data[\"host\"]),\n",
    "        Metadata(name=\"index\", value=data[\"index\"]),\n",
    "        Metadata(name=\"source\", value=data[\"source\"]),\n",
    "        Metadata(name=\"sourcetype\", value=data[\"sourcetype\"])\n",
    "    ]\n",
    "\n",
    "# Parsing tomli_input to create InputSchema instances\n",
    "result = [\n",
    "    InputSchema(\n",
    "        schedule=Schedule(\n",
    "            interval=row['interval'],\n",
    "            run=Run(mode=row['mode']),\n",
    "            disabled=row['disabled']\n",
    "        ),\n",
    "        collector=Collector(\n",
    "            conf=CollectorConf(\n",
    "                connection=row['connection'],\n",
    "                query=row['query']\n",
    "            )\n",
    "        ),\n",
    "        input=InputType(\n",
    "            metadata=create_metadata(row)\n",
    "        ),\n",
    "        id=f\"{key}-{uuid4()}\"\n",
    "    )\n",
    "    for key, row in tomli_input\n",
    "]\n"
   ]
  },
  {
   "cell_type": "code",
   "execution_count": 61,
   "id": "9e4cccf0-08bf-4699-9f7d-015eb1611fb2",
   "metadata": {},
   "outputs": [
    {
     "data": {
      "text/plain": [
       "InputSchema(type='collection', schedule=Schedule(cronSchedule='0 6 * * *', run=Run(mode='batch'), enabled=True), collector=Collector(conf=CollectorConf(connectionId='TOOLX_P', query='SELECT * FROM \"OWNER\".\"ASSIGNMENT_GROUPS_SPLUNK\"'), type='database'), input=InputType(type='collection', metadata=[Metadata(name='host', value='host.sample.com'), Metadata(name='index', value='indexx'), Metadata(name='source', value='toolx'), Metadata(name='sourcetype', value='assignmentgroups')]), id='assignmentgroups-a6d1d721-d100-4e9d-81b3-908cef17bd20')"
      ]
     },
     "execution_count": 61,
     "metadata": {},
     "output_type": "execute_result"
    }
   ],
   "source": [
    "result[0]"
   ]
  },
  {
   "cell_type": "code",
   "execution_count": 18,
   "id": "9eb345d2-2407-4bfa-b5ac-39f4d99c521b",
   "metadata": {},
   "outputs": [
    {
     "data": {
      "text/plain": [
       "{'type': 'collection',\n",
       " 'schedule': {'cronSchedule': '0 6 * * *',\n",
       "  'run': {'mode': 'batch'},\n",
       "  'enabled': True},\n",
       " 'collector': {'conf': {'connectionId': 'TOOLX_P',\n",
       "   'query': 'SELECT * FROM \"OWNER\".\"ASSIGNMENT_GROUPS_SPLUNK\"'},\n",
       "  'type': 'database'},\n",
       " 'input': {'type': 'collection',\n",
       "  'metadata': [{'name': 'host', 'value': 'host.sample.com'},\n",
       "   {'name': 'index', 'value': 'indexx'},\n",
       "   {'name': 'source', 'value': 'toolx'},\n",
       "   {'name': 'sourcetype', 'value': 'assignmentgroups'}]},\n",
       " 'id': 'assignmentgroups-b2482a16-d719-445d-ba78-4d0936e14474'}"
      ]
     },
     "execution_count": 18,
     "metadata": {},
     "output_type": "execute_result"
    }
   ],
   "source": [
    "def to_dict(obj):\n",
    "    \"\"\"Recursively converts an object to a dictionary.\"\"\"\n",
    "    if isinstance(obj, list):\n",
    "        return [to_dict(item) for item in obj]\n",
    "    elif hasattr(obj, \"__dict__\"):\n",
    "        result = {key: to_dict(value) for key, value in vars(obj).items()}\n",
    "        return result\n",
    "    else:\n",
    "        return obj\n",
    "\n",
    "\n",
    "input_schema_dict = to_dict(result[0])\n",
    "input_schema_dict['input']['metadata'] = [\n",
    "    {'name': meta.name, 'value': meta.value} for meta in result[0].input.metadata\n",
    "]\n",
    "input_schema_dict"
   ]
  },
  {
   "cell_type": "code",
   "execution_count": 8,
   "id": "1d50127c-9cb2-4771-b6c8-39070f30e2d5",
   "metadata": {},
   "outputs": [],
   "source": [
    "payload = [{'items': [{'type': 'collection', 'schedule': {'cronSchedule': '0 6 * * *', 'run': {'mode': 'batch'}, 'enabled': True}, 'collector': {'conf': {'connectionId': 'default_connection', 'query': '\"SELECT * FROM OWNER.CONFIG_SPLUNK\"'}, 'type': 'database'}, 'input': {'type': 'collection', 'metadata': [{'name': 'index', 'value': 'default_index'}, {'name': 'sourcetype', 'value': 'default_sourcetype'}, {'name': 'source', 'value': 'default_source'}]}, 'connection': 'TOOLX_P', 'disabled': 0, 'host': 'host1', 'index': 'indexx', 'index_time_mode': 'current', 'interval': '0 6 * * *', 'max_rows': 100000, 'mode': 'batch', 'query': 'SELECT * FROM \"OWNER\".\"ASSIGNMENT_GROUPS_SPLUNK\"', 'source': 'toolx', 'sourcetype': 'assignmentgroups', 'id': 'assignmentgroups-d4d48e50-c394-45fa-a226-2ff5585f8a0c', 'history': [], 'savedState': {}}], 'count': 1}, {'items': [{'type': 'collection', 'schedule': {'cronSchedule': '0 6 * * *', 'run': {'mode': 'batch'}, 'enabled': True}, 'collector': {'conf': {'connectionId': 'default_connection', 'query': '\"SELECT * FROM OWNER.CONFIG_SPLUNK\"'}, 'type': 'database'}, 'input': {'type': 'collection', 'metadata': [{'name': 'index', 'value': 'default_index'}, {'name': 'sourcetype', 'value': 'default_sourcetype'}, {'name': 'source', 'value': 'default_source'}]}, 'connection': 'TOOLX_P', 'disabled': 0, 'host': 'host1', 'index': 'indexx', 'index_time_mode': 'current', 'interval': '0 5 * * *', 'max_rows': 1000000, 'mode': 'batch', 'query': 'SELECT * FROM \"OWNER\".\"RELATIONSHIP_SPLUNK\"', 'source': 'toolx', 'sourcetype': 'ci_relations', 'id': 'CI_relations-ecdb0b99-e8ec-4a60-9c03-b6042c84671d', 'history': [], 'savedState': {}}], 'count': 1}, {'items': [{'type': 'collection', 'schedule': {'cronSchedule': '0 6 * * *', 'run': {'mode': 'batch'}, 'enabled': True}, 'collector': {'conf': {'connectionId': 'default_connection', 'query': '\"SELECT * FROM OWNER.CONFIG_SPLUNK\"'}, 'type': 'database'}, 'input': {'type': 'collection', 'metadata': [{'name': 'index', 'value': 'default_index'}, {'name': 'sourcetype', 'value': 'default_sourcetype'}, {'name': 'source', 'value': 'default_source'}]}, 'connection': 'TOOLY_P', 'disabled': 0, 'host': 'host2', 'index': 'indexy', 'index_time_mode': 'current', 'interval': '0 4 * * *', 'max_rows': 1000000, 'mode': 'batch', 'query': 'SELECT * FROM \"OWNER\".\"CONFIG_SPLUNK\"', 'source': 'tooly', 'sourcetype': 'tooly', 'id': 'config_full-e90ca558-3782-4c74-89fe-4b758b257f4f', 'history': [], 'savedState': {}}], 'count': 1}]\n"
   ]
  },
  {
   "cell_type": "code",
   "execution_count": 10,
   "id": "c39c77a7-cb32-4c8c-a80e-53e525e92dfd",
   "metadata": {},
   "outputs": [
    {
     "data": {
      "text/plain": [
       "{'items': [{'type': 'collection',\n",
       "   'schedule': {'cronSchedule': '0 6 * * *',\n",
       "    'run': {'mode': 'batch'},\n",
       "    'enabled': True},\n",
       "   'collector': {'conf': {'connectionId': 'default_connection',\n",
       "     'query': '\"SELECT * FROM OWNER.CONFIG_SPLUNK\"'},\n",
       "    'type': 'database'},\n",
       "   'input': {'type': 'collection',\n",
       "    'metadata': [{'name': 'index', 'value': 'default_index'},\n",
       "     {'name': 'sourcetype', 'value': 'default_sourcetype'},\n",
       "     {'name': 'source', 'value': 'default_source'}]},\n",
       "   'connection': 'TOOLX_P',\n",
       "   'disabled': 0,\n",
       "   'host': 'host1',\n",
       "   'index': 'indexx',\n",
       "   'index_time_mode': 'current',\n",
       "   'interval': '0 5 * * *',\n",
       "   'max_rows': 1000000,\n",
       "   'mode': 'batch',\n",
       "   'query': 'SELECT * FROM \"OWNER\".\"RELATIONSHIP_SPLUNK\"',\n",
       "   'source': 'toolx',\n",
       "   'sourcetype': 'ci_relations',\n",
       "   'id': 'CI_relations-ecdb0b99-e8ec-4a60-9c03-b6042c84671d',\n",
       "   'history': [],\n",
       "   'savedState': {}}],\n",
       " 'count': 1}"
      ]
     },
     "execution_count": 10,
     "metadata": {},
     "output_type": "execute_result"
    }
   ],
   "source": [
    "payload[1]"
   ]
  },
  {
   "cell_type": "code",
   "execution_count": null,
   "id": "72ab63fc-9e3b-45f9-a7de-73f8400ebfcf",
   "metadata": {},
   "outputs": [],
   "source": []
  },
  {
   "cell_type": "code",
   "execution_count": null,
   "id": "8b0200e0-ca5e-4db3-8c48-1f7d9bfd939b",
   "metadata": {},
   "outputs": [],
   "source": [
    "class ConnectionSchema(Basemodel):\n",
    "    id: str\n",
    "    databaseType: str\n",
    "    username: str\n",
    "    password: str\n",
    "    connectionString: str | None = None\n",
    "    database: str\n",
    "    disabled: int\n",
    "    host: str\n",
    "    identity: str\n",
    "    jdbcUseSSL: bool\n",
    "    localTimezoneConversionEnabled: bool\n",
    "    port: int\n",
    "    readonly: bool\n",
    "    timezone: str | None = None\n",
    "    "
   ]
  },
  {
   "cell_type": "markdown",
   "id": "d5b64f4f-145a-4545-a024-3a36fed41b27",
   "metadata": {},
   "source": []
  },
  {
   "cell_type": "code",
   "execution_count": null,
   "id": "eb9fbd94-e3bc-4d3f-9c9e-5eea95884509",
   "metadata": {},
   "outputs": [],
   "source": []
  },
  {
   "cell_type": "code",
   "execution_count": null,
   "id": "c1efc001-23a1-4aaf-9ca1-b3259f6d664b",
   "metadata": {},
   "outputs": [],
   "source": []
  },
  {
   "cell_type": "markdown",
   "id": "5537f43a-f26f-4902-817e-fd75f7fb22aa",
   "metadata": {},
   "source": [
    "# Two load functions, one for the Iputs and one for Connections"
   ]
  },
  {
   "cell_type": "code",
   "execution_count": null,
   "id": "268e1f3b-4a4c-48c1-ad5e-6c736a8e1610",
   "metadata": {},
   "outputs": [],
   "source": []
  }
 ],
 "metadata": {
  "kernelspec": {
   "display_name": "Python (miniforge3)",
   "language": "python",
   "name": "miniforge3"
  },
  "language_info": {
   "codemirror_mode": {
    "name": "ipython",
    "version": 3
   },
   "file_extension": ".py",
   "mimetype": "text/x-python",
   "name": "python",
   "nbconvert_exporter": "python",
   "pygments_lexer": "ipython3",
   "version": "3.10.6"
  }
 },
 "nbformat": 4,
 "nbformat_minor": 5
}
