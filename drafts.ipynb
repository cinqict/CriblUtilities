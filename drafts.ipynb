{
 "cells": [
  {
   "cell_type": "markdown",
   "id": "158b5dac-a2b6-4124-86b3-00ff9fb0e9a5",
   "metadata": {},
   "source": [
    "# Load conf files"
   ]
  },
  {
   "cell_type": "code",
   "execution_count": 11,
   "id": "8cc33837-c623-4357-ade4-f427f4196f6f",
   "metadata": {},
   "outputs": [],
   "source": [
    "import tomli\n",
    "import re\n",
    "from pydantic import BaseModel\n",
    "from uuid import uuid4\n",
    "inputs_conf = 'config/inputs.conf'\n",
    "\n",
    "schema = BaseModel\n",
    "with open(file) as f:\n",
    "    tmp = f.read()\n",
    "    # .conf files aren't exactly TOML, so we need to format it a bit\n",
    "    # first before we can load it\n",
    "    tmp_formatted = re.sub(r\"(\\s*=\\s*)(.*)\", r\"\\1'\\2'\", tmp)\n",
    "    tomli_inputs = tomli.loads(tmp_formatted).items()\n"
   ]
  },
  {
   "cell_type": "code",
   "execution_count": 12,
   "id": "65849d97-2557-4f2d-82d0-996d3ac15572",
   "metadata": {},
   "outputs": [
    {
     "data": {
      "text/plain": [
       "dict_items([('assignmentgroups', {'connection': 'TOOLX_P', 'disabled': '0', 'host': 'host1', 'index': 'indexx', 'index_time_mode': 'current', 'interval': '0 6 * * *', 'max_rows': '100000', 'mode': 'batch', 'query': 'SELECT * FROM \"OWNER\".\"ASSIGNMENT_GROUPS_SPLUNK\"', 'source': 'toolx', 'sourcetype': 'assignmentgroups'}), ('CI_relations', {'connection': 'TOOLX_P', 'disabled': '0', 'host': 'host1', 'index': 'indexx', 'index_time_mode': 'current', 'interval': '0 5 * * *', 'max_rows': '1000000', 'mode': 'batch', 'query': 'SELECT * FROM \"OWNER\".\"RELATIONSHIP_SPLUNK\"', 'source': 'toolx', 'sourcetype': 'ci_relations'}), ('config_full', {'connection': 'TOOLY_P', 'description': 'Get all config daily', 'disabled': '0', 'host': 'host2', 'index': 'indexy', 'index_time_mode': 'current', 'interval': '0 4 * * *', 'max_rows': '1000000', 'mode': 'batch', 'query': 'SELECT * FROM \"OWNER\".\"CONFIG_SPLUNK\"', 'query_timeout': '300', 'source': 'tooly', 'sourcetype': 'tooly'})])"
      ]
     },
     "execution_count": 12,
     "metadata": {},
     "output_type": "execute_result"
    }
   ],
   "source": [
    "tomli_inputs"
   ]
  },
  {
   "cell_type": "markdown",
   "id": "26c43747-4768-4c6e-946f-523ce0e0ec1e",
   "metadata": {},
   "source": [
    "# Re organize data to make 2 batches, one for the Input API and another for Connections API"
   ]
  },
  {
   "cell_type": "code",
   "execution_count": null,
   "id": "ecfbbd85-c851-498f-b0fa-87399e823195",
   "metadata": {},
   "outputs": [],
   "source": []
  },
  {
   "cell_type": "code",
   "execution_count": null,
   "id": "1a605245-b81e-4b89-8761-23d5dd019bac",
   "metadata": {},
   "outputs": [],
   "source": []
  },
  {
   "cell_type": "code",
   "execution_count": null,
   "id": "8468b6f6-dcdc-4af3-b8e1-209c1ade60ce",
   "metadata": {},
   "outputs": [],
   "source": []
  },
  {
   "cell_type": "markdown",
   "id": "d96b43fe-d7b8-4c2a-9cac-e9be13e21650",
   "metadata": {},
   "source": [
    "# Schemas that include aliases"
   ]
  },
  {
   "cell_type": "code",
   "execution_count": null,
   "id": "8b0200e0-ca5e-4db3-8c48-1f7d9bfd939b",
   "metadata": {},
   "outputs": [],
   "source": [
    "class ConnectionSchema(Basemodel):\n",
    "    id: str\n",
    "    databaseType: str\n",
    "    username: str\n",
    "    password: str\n",
    "    connectionString: str | None = None\n",
    "    database: str\n",
    "    disabled: int\n",
    "    host: str\n",
    "    identity: str\n",
    "    jdbcUseSSL: bool\n",
    "    localTimezoneConversionEnabled: bool\n",
    "    port: int\n",
    "    readonly: bool\n",
    "    timezone: str | None = None\n",
    "    "
   ]
  },
  {
   "cell_type": "code",
   "execution_count": null,
   "id": "54820b55-c45e-47d8-9db8-3ba68de87d74",
   "metadata": {},
   "outputs": [],
   "source": [
    "class Metadata(BaseModel):\n",
    "    name: str\n",
    "    value: str\n",
    "\n",
    "class Schedule(BaseModel):\n",
    "    cronSchedule: str \n",
    "    run: Dict[str, str]\n",
    "    enabled: bool\n",
    "\n",
    "class CollectorConf(BaseModel):\n",
    "    connectionId: str\n",
    "    query: str\n",
    "\n",
    "class Collector(BaseModel):\n",
    "    conf: CollectorConf\n",
    "    type: str\n",
    "\n",
    "class InputType(BaseModel):\n",
    "    type: str\n",
    "    metadata: List[Metadata]\n",
    "\n",
    "class InputSchema(BaseModel):\n",
    "    type: str | None = None\n",
    "    schedule: Schedule\n",
    "    collector: Collector\n",
    "    input: InputType\n",
    "    id: str| None = None"
   ]
  },
  {
   "cell_type": "markdown",
   "id": "d5b64f4f-145a-4545-a024-3a36fed41b27",
   "metadata": {},
   "source": []
  },
  {
   "cell_type": "code",
   "execution_count": null,
   "id": "eb9fbd94-e3bc-4d3f-9c9e-5eea95884509",
   "metadata": {},
   "outputs": [],
   "source": []
  },
  {
   "cell_type": "code",
   "execution_count": null,
   "id": "c1efc001-23a1-4aaf-9ca1-b3259f6d664b",
   "metadata": {},
   "outputs": [],
   "source": []
  },
  {
   "cell_type": "code",
   "execution_count": null,
   "id": "8c626700-8d9b-470c-9eb6-c74e75182172",
   "metadata": {},
   "outputs": [],
   "source": [
    "# Two load functions, one for the Iputs and one for Connections"
   ]
  }
 ],
 "metadata": {
  "kernelspec": {
   "display_name": "Python (miniforge3)",
   "language": "python",
   "name": "miniforge3"
  },
  "language_info": {
   "codemirror_mode": {
    "name": "ipython",
    "version": 3
   },
   "file_extension": ".py",
   "mimetype": "text/x-python",
   "name": "python",
   "nbconvert_exporter": "python",
   "pygments_lexer": "ipython3",
   "version": "3.10.6"
  }
 },
 "nbformat": 4,
 "nbformat_minor": 5
}
