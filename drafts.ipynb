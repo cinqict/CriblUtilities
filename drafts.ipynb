{
 "cells": [
  {
   "cell_type": "markdown",
   "id": "158b5dac-a2b6-4124-86b3-00ff9fb0e9a5",
   "metadata": {},
   "source": [
    "# Load conf files"
   ]
  },
  {
   "cell_type": "markdown",
   "id": "9a4433ca-f323-4a4f-aaa7-3da658a4de03",
   "metadata": {},
   "source": [
    "## Input API"
   ]
  },
  {
   "cell_type": "code",
   "execution_count": 4,
   "id": "8cc33837-c623-4357-ade4-f427f4196f6f",
   "metadata": {},
   "outputs": [],
   "source": [
    "import tomli\n",
    "import re\n",
    "from uuid import uuid4\n",
    "\n",
    "db_inputs_conf = 'examples/db_inputs.conf'\n",
    "db_connections_conf = 'examples/db_connections.conf'\n",
    "\n",
    "with open(db_connections_conf) as f:\n",
    "    tmp = f.read()\n",
    "    tmp_formatted = re.sub(r\"(\\s*=\\s*)(.*)\", r\"\\1'\\2'\", tmp)\n",
    "    tomli_db_connections = tomli.loads(tmp_formatted).items()\n",
    "tomli_db_connections"
   ]
  },
  {
   "cell_type": "code",
   "execution_count": 21,
   "id": "f1a8b8ed-aa64-44ed-9fa7-fac802b3d656",
   "metadata": {},
   "outputs": [
    {
     "data": {
      "text/plain": [
       "dict_items([('assignmentgroups', {'connection': 'TOOLX_P', 'disabled': '0', 'host': 'host1', 'index': 'indexx', 'index_time_mode': 'current', 'interval': '0 6 * * *', 'max_rows': '100000', 'mode': 'batch', 'query': 'SELECT * FROM \"OWNER\".\"ASSIGNMENT_GROUPS_SPLUNK\"', 'source': 'toolx', 'sourcetype': 'assignmentgroups'}), ('CI_relations', {'connection': 'TOOLX_P', 'disabled': '0', 'host': 'host1', 'index': 'indexx', 'index_time_mode': 'current', 'interval': '0 5 * * *', 'max_rows': '1000000', 'mode': 'batch', 'query': 'SELECT * FROM \"OWNER\".\"RELATIONSHIP_SPLUNK\"', 'source': 'toolx', 'sourcetype': 'ci_relations'}), ('config_full', {'connection': 'TOOLY_P', 'description': 'Get all config daily', 'disabled': '0', 'host': 'host2', 'index': 'indexy', 'index_time_mode': 'current', 'interval': '0 4 * * *', 'max_rows': '1000000', 'mode': 'batch', 'query': 'SELECT * FROM \"OWNER\".\"CONFIG_SPLUNK\"', 'query_timeout': '300', 'source': 'tooly', 'sourcetype': 'tooly'}), ('input_example01', {'connection': 'connA', 'description': 'description about this database connection', 'disabled': '0', 'host': 'test01', 'index': 'index01', 'index_time_mode': 'UID', 'input_timestamp_column_number': '11', 'interval': '*/5 * * * *', 'mode': 'batch', 'query': 'select UID,SUBSTRING(field,1,5000) AS Field from Database;', 'sourcetype': 'sourcetype01'}), ('input_example02', {'connection': 'connD', 'disabled': '1', 'host': 'test02', 'index': 'index02', 'index_time_mode': 'current', 'interval': '0 * * * 1-5', 'mode': 'batch', 'query': 'SELECT count(DISTINCT USER) AS \"USERS\" FROM sys.v_$session S WHERE S.USERNAME NOT IN ( \\'SYS\\', \\'SYSTEM\\' ) AND S.USERNAME NOT LIKE USER  AND S.PROGRAM =\\'someprogram.exe\\' ORDER BY USER', 'source': 'source02', 'sourcetype': 'sourcetype02'}), ('input_example03', {'connection': 'connC', 'host': 'test03', 'index': 'index03', 'interval': '3600', 'max_rows': '1000', 'mode': 'batch', 'query': 'SELECT * FROM \"db\".\"dbo\".\"FunctionalUser\"', 'source': 'source03', 'sourcetype': 'sourcetype03', 'tail_rising_column_name': 'id', 'ui_query_catalog': 'db', 'ui_query_mode': 'simple', 'ui_query_schema': 'dbo', 'ui_query_table': 'FunctionalUser', 'fetch_size': '300', 'batch_upload_size': '1000', 'disabled': '1', 'max_single_checkpoint_file_size': '10485760', 'query_timeout': '30'})])"
      ]
     },
     "execution_count": 21,
     "metadata": {},
     "output_type": "execute_result"
    }
   ],
   "source": [
    "with open(db_inputs_conf) as f:\n",
    "    tmp = f.read()\n",
    "    tmp = re.sub(r\"\\\\\\n\",\" \",tmp)\n",
    "    tmp_formatted = re.sub(r\"(\\s*=\\s*)(.*)\", r\"\\1'''\\2'''\", tmp)\n",
    "    tomli_db_inputs = tomli.loads(tmp_formatted).items()\n",
    "tomli_db_inputs"
   ]
  },
  {
   "cell_type": "code",
   "execution_count": 29,
   "id": "78b347cd-05db-490c-9d13-8489230c1076",
   "metadata": {},
   "outputs": [
    {
     "data": {
      "text/plain": [
       "dict_items([('TOOLX_P', {'connection_type': 'oracle_service', 'customizedJdbcUrl': 'jdbc:oracle:thin:@(DESCRIPTION_LIST=(LOAD_BALANCE=off)(FAILOVER=on)(DESCRIPTION=(CONNECT_TIMEOUT=5)(TRANSPORT_CONNECT_TIMEOUT=3)(RETRY_COUNT=3)(ADDRESS_LIST=(LOAD_BALANCE=on)(ADDRESS=(PROTOCOL=TCP)(HOST=host.sample.com)(PORT=39000)))(CONNECT_DATA=(SERVICE_NAME=DATABASESAMPLENAME)))(DESCRIPTION=(CONNECT_TIMEOUT=5)(TRANSPORT_CONNECT_TIMEOUT=3)(RETRY_COUNT=3)(ADDRESS_LIST=(LOAD_BALANCE=on)(ADDRESS=(PROTOCOL=TCP)(HOST=host.sample.com)(PORT=39000)))(CONNECT_DATA=(SERVICE_NAME=DATABASESAMPLENAME))))', 'database': 'DATABASESAMPLENAME', 'disabled': '0', 'host': 'host.sample.com', 'identity': 'TOOLX_P', 'jdbcUseSSL': 'false', 'localTimezoneConversionEnabled': 'false', 'port': '39000', 'readonly': 'true', 'timezone': 'Europe/Amsterdam'}), ('TOOLY_P', {'connection_type': 'oracle_service', 'database': 'DATABASESAMPLENAMEY', 'disabled': '0', 'host': 'host2.cinqict.nl', 'identity': 'TOOLY_P', 'jdbcUseSSL': 'false', 'localTimezoneConversionEnabled': 'false', 'port': '39000', 'readonly': 'false'}), ('connA', {'connection_properties': '{}', 'connection_type': 'generic_mssql', 'database': 'databaseA', 'disabled': '0', 'host': 'database.cinqict.nl', 'identity': 'TOOLY_P', 'jdbcUseSSL': 'false', 'port': '1433', 'readonly': 'true'}), ('connB', {'connection_type': 'generic_mssql', 'database': 'databaseB', 'disabled': '0', 'host': 'database.cinqict.nl', 'identity': 'TOOLY_P', 'jdbcUseSSL': 'false', 'localTimezoneConversionEnabled': 'false', 'port': '1433', 'readonly': 'true', 'customizedJdbcUrl': 'jdbc:sqlserver://database.cinqict.nl:1433;databaseName=databaseB;selectMethod=cursor', 'connection_properties': '{\"encrypt\":\"true\",\"trustServerCertificate\":\"true\"}'}), ('connC', {'connection_type': 'oracle', 'database': 'testdatabase', 'disabled': '0', 'host': 'database-oracle.cinqict.nl', 'identity': 'TOOLX_P', 'jdbcUseSSL': 'false', 'localTimezoneConversionEnabled': 'false', 'port': '9501', 'readonly': 'true', 'timezone': 'Europe/Amsterdam'}), ('connD', {'connection_type': 'mssql_jtds_win_auth', 'database': 'Database01', 'disabled': '0', 'host': 'database-windows.cinqict.nl', 'identity': 'CONNZ', 'jdbcUseSSL': 'false', 'localTimezoneConversionEnabled': 'false', 'port': '1433', 'readonly': 'false'})])"
      ]
     },
     "execution_count": 29,
     "metadata": {},
     "output_type": "execute_result"
    }
   ],
   "source": [
    "with open(db_connections_conf) as f:\n",
    "    tmp = f.read()\n",
    "    tmp = re.sub(r\"\\\\\\n\",\" \",tmp)\n",
    "    tmp_formatted = re.sub(r\"(\\s*=\\s*)(.*)\", r\"\\1'''\\2'''\", tmp)\n",
    "    tomli_db_ = tomli.loads(tmp_formatted).items()\n",
    "tomli_db_"
   ]
  },
  {
   "cell_type": "code",
   "execution_count": 5,
   "id": "f2c6cb93-0548-4e9b-8191-e250f212a7d7",
   "metadata": {
    "collapsed": true,
    "jupyter": {
     "outputs_hidden": true,
     "source_hidden": true
    }
   },
   "outputs": [
    {
     "data": {
      "text/plain": [
       "dict_items([('assignmentgroups', {'connection': 'TOOLX_P', 'disabled': '0', 'host': 'host1', 'index': 'indexx', 'index_time_mode': 'current', 'interval': '0 6 * * *', 'max_rows': '100000', 'mode': 'batch', 'query': 'SELECT * FROM \"OWNER\".\"ASSIGNMENT_GROUPS_SPLUNK\"', 'source': 'toolx', 'sourcetype': 'assignmentgroups'}), ('CI_relations', {'connection': 'TOOLX_P', 'disabled': '0', 'host': 'host1', 'index': 'indexx', 'index_time_mode': 'current', 'interval': '0 5 * * *', 'max_rows': '1000000', 'mode': 'batch', 'query': 'SELECT * FROM \"OWNER\".\"RELATIONSHIP_SPLUNK\"', 'source': 'toolx', 'sourcetype': 'ci_relations'}), ('config_full', {'connection': 'TOOLY_P', 'description': 'Get all config daily', 'disabled': '0', 'host': 'host2', 'index': 'indexy', 'index_time_mode': 'current', 'interval': '0 4 * * *', 'max_rows': '1000000', 'mode': 'batch', 'query': 'SELECT * FROM \"OWNER\".\"CONFIG_SPLUNK\"', 'query_timeout': '300', 'source': 'tooly', 'sourcetype': 'tooly'}), ('input_example01', {'connection': 'connA', 'description': 'description about this database connection', 'disabled': '0', 'host': 'test01', 'index': 'index01', 'index_time_mode': 'UID', 'input_timestamp_column_number': '11', 'interval': '*/5 * * * *', 'mode': 'batch', 'query': 'select UID,SUBSTRING(field,1,5000) AS Field from Database;', 'sourcetype': 'sourcetype01'}), ('input_example02', {'connection': 'connD', 'disabled': '1', 'host': 'test02', 'index': 'index02', 'index_time_mode': 'current', 'interval': '0 * * * 1-5', 'mode': 'batch', 'query': '\\'\\'\\nSELECT count(DISTINCT USER) AS \"USERS\"\\nFROM sys.v_$session S\\nWHERE S.USERNAME NOT IN ( \\'SYS\\', \\'SYSTEM\\' )\\nAND S.USERNAME NOT LIKE USER \\nAND S.PROGRAM = \\'\\'someprogram.exe\\'\\'\\nORDER BY USER\\n', 'source': 'source02', 'sourcetype': 'sourcetype02'}), ('input_example03', {'connection': 'connC', 'host': 'test03', 'index': 'index03', 'interval': '3600', 'max_rows': '1000', 'mode': 'batch', 'query': 'SELECT * FROM \"db\".\"dbo\".\"FunctionalUser\"', 'source': 'source03', 'sourcetype': 'sourcetype03', 'tail_rising_column_name': 'id', 'ui_query_catalog': 'db', 'ui_query_mode': 'simple', 'ui_query_schema': 'dbo', 'ui_query_table': 'FunctionalUser', 'fetch_size': '300', 'batch_upload_size': '1000', 'disabled': '1', 'max_single_checkpoint_file_size': '10485760', 'query_timeout': '30'})])"
      ]
     },
     "execution_count": 5,
     "metadata": {},
     "output_type": "execute_result"
    }
   ],
   "source": [
    "#split string in new lines\n",
    "with open(db_inputs_conf) as f:\n",
    "    tmp = f.read()\n",
    "    transformed_lines = []\n",
    "    multiline_query = False\n",
    "    for line in tmp.split('\\n'):\n",
    "        line = re.sub(r\"\\s*=\\s*\", \" = \", line)\n",
    "        if 'query' in line:\n",
    "            if '\\\\' in line:\n",
    "                query_content = line.split('query = ')[1].rstrip(\"\\\\\").strip()\n",
    "                # Append the modified 'query' line with triple quotes\n",
    "                transformed_lines.append(\"query = '''\")\n",
    "                # Append the original content on a new line\n",
    "                transformed_lines.append(query_content)\n",
    "                multiline_query = True\n",
    "            else:\n",
    "                # Add other lines as they are\n",
    "                transformed_lines.append(line)\n",
    "                multiline_query = False\n",
    "\n",
    "        elif multiline_query == True and '\\\\' in line:\n",
    "            transformed_lines.append(line)\n",
    "            multiline_query = True\n",
    "\n",
    "        elif multiline_query == True and '\\\\' not in line:\n",
    "            transformed_lines.append(line)\n",
    "            transformed_lines.append(\"'''\")\n",
    "            multiline_query = False\n",
    "        else:\n",
    "            transformed_lines.append(line)\n",
    "\n",
    "transformed_text = \"\\n\".join(transformed_lines)\n",
    "text = transformed_text.strip()\n",
    "# Wrap the text with triple double quotes, starting and ending on a new line\n",
    "formatted_text = f\"\"\"\\n{text}\\n\"\"\"\n",
    "tmp = re.sub(r\"\\\\\\n\", \"\\n\", formatted_text)\n",
    "tmp = re.sub(r\"(\\s*=\\s*)(.*)\", r\"\\1'\\2'\", tmp)\n",
    "tomli_db_inputs = tomli.loads(tmp).items()\n",
    "tomli_db_inputs"
   ]
  },
  {
   "cell_type": "markdown",
   "id": "26c43747-4768-4c6e-946f-523ce0e0ec1e",
   "metadata": {},
   "source": [
    "# Re organize data to make 2 batches, one for the Input API and another for Connections API"
   ]
  },
  {
   "cell_type": "markdown",
   "id": "26992cd2-9a9f-4764-8a2c-3a4c4e2abb7d",
   "metadata": {},
   "source": [
    "## Input API"
   ]
  },
  {
   "cell_type": "code",
   "execution_count": 22,
   "id": "1a605245-b81e-4b89-8761-23d5dd019bac",
   "metadata": {},
   "outputs": [],
   "source": [
    "merged_data = {}\n",
    "dict_db_inputs = dict(tomli_db_inputs)\n",
    "dict_db_connections = dict(tomli_db_connections)\n",
    "\n",
    "for key, input_value in dict_db_inputs.items():\n",
    "    connection_key = input_value.get(\"connection\")\n",
    "    connection_data = dict_db_connections.get(connection_key, {})\n",
    "    merged_data[key] = {**input_value, **connection_data}"
   ]
  },
  {
   "cell_type": "markdown",
   "id": "5d1add8e-3ab6-4bfa-8673-292a28dc383c",
   "metadata": {},
   "source": [
    "# Convert values"
   ]
  },
  {
   "cell_type": "markdown",
   "id": "884db764-c85a-4549-ac8b-5124cc5720bc",
   "metadata": {
    "jupyter": {
     "source_hidden": true
    }
   },
   "source": [
    "## schedule.enabled -> disabled\n",
    "\n",
    "Because Splunk talks about disabled and Cribl about enabled the states need to be transformed to the opposite value. Cribl only allows true or false booleans where Splunk allows 0 and 1 numbers as well; these need to be transformed.\n",
    "\n",
    "| From | To |\n",
    "| :---- | :---- |\n",
    "| true | false |\n",
    "| false | true |\n",
    "| 1 | false |\n",
    "| 0 | true |\n"
   ]
  },
  {
   "cell_type": "code",
   "execution_count": 23,
   "id": "4de327e9-bac5-4109-945b-e3080f49160a",
   "metadata": {},
   "outputs": [],
   "source": [
    "def transform_disabled_values(data):\n",
    "    for key, sub_dict in data.items():\n",
    "        if 'disabled' in sub_dict:\n",
    "            value = sub_dict['disabled']\n",
    "            if isinstance(value, str):\n",
    "                value = value.lower()\n",
    "            if value in ['true', 1, True, '1']:\n",
    "                sub_dict['disabled'] = False\n",
    "            elif value in ['false', 0, False, '0']:\n",
    "                sub_dict['disabled'] = True\n",
    "    return data\n",
    "\n",
    "transformed_merged_data = transform_disabled_values(merged_data)\n"
   ]
  },
  {
   "cell_type": "code",
   "execution_count": 24,
   "id": "68013bb5-543b-4f52-bc4d-cf6b35f56d98",
   "metadata": {},
   "outputs": [],
   "source": [
    "tomli_input = transformed_merged_data.items()"
   ]
  },
  {
   "cell_type": "code",
   "execution_count": 25,
   "id": "abd21be9-a6ba-4568-8ad5-10da0c3b3a53",
   "metadata": {},
   "outputs": [
    {
     "data": {
      "text/plain": [
       "dict_items([('assignmentgroups', {'connection': 'TOOLX_P', 'disabled': True, 'host': 'host.sample.com', 'index': 'indexx', 'index_time_mode': 'current', 'interval': '0 6 * * *', 'max_rows': '100000', 'mode': 'batch', 'query': 'SELECT * FROM \"OWNER\".\"ASSIGNMENT_GROUPS_SPLUNK\"', 'source': 'toolx', 'sourcetype': 'assignmentgroups', 'connection_type': 'oracle_service', 'customizedJdbcUrl': 'jdbc:oracle:thin:@(DESCRIPTION_LIST=(LOAD_BALANCE=off)(FAILOVER=on)(DESCRIPTION=(CONNECT_TIMEOUT=5)(TRANSPORT_CONNECT_TIMEOUT=3)(RETRY_COUNT=3)(ADDRESS_LIST=(LOAD_BALANCE=on)(ADDRESS=(PROTOCOL=TCP)(HOST=host.sample.com)(PORT=39000)))(CONNECT_DATA=(SERVICE_NAME=DATABASESAMPLENAME)))(DESCRIPTION=(CONNECT_TIMEOUT=5)(TRANSPORT_CONNECT_TIMEOUT=3)(RETRY_COUNT=3)(ADDRESS_LIST=(LOAD_BALANCE=on)(ADDRESS=(PROTOCOL=TCP)(HOST=host.sample.com)(PORT=39000)))(CONNECT_DATA=(SERVICE_NAME=DATABASESAMPLENAME))))', 'database': 'DATABASESAMPLENAME', 'identity': 'TOOLX_P', 'jdbcUseSSL': 'false', 'localTimezoneConversionEnabled': 'false', 'port': '39000', 'readonly': 'true', 'timezone': 'Europe/Amsterdam'}), ('CI_relations', {'connection': 'TOOLX_P', 'disabled': True, 'host': 'host.sample.com', 'index': 'indexx', 'index_time_mode': 'current', 'interval': '0 5 * * *', 'max_rows': '1000000', 'mode': 'batch', 'query': 'SELECT * FROM \"OWNER\".\"RELATIONSHIP_SPLUNK\"', 'source': 'toolx', 'sourcetype': 'ci_relations', 'connection_type': 'oracle_service', 'customizedJdbcUrl': 'jdbc:oracle:thin:@(DESCRIPTION_LIST=(LOAD_BALANCE=off)(FAILOVER=on)(DESCRIPTION=(CONNECT_TIMEOUT=5)(TRANSPORT_CONNECT_TIMEOUT=3)(RETRY_COUNT=3)(ADDRESS_LIST=(LOAD_BALANCE=on)(ADDRESS=(PROTOCOL=TCP)(HOST=host.sample.com)(PORT=39000)))(CONNECT_DATA=(SERVICE_NAME=DATABASESAMPLENAME)))(DESCRIPTION=(CONNECT_TIMEOUT=5)(TRANSPORT_CONNECT_TIMEOUT=3)(RETRY_COUNT=3)(ADDRESS_LIST=(LOAD_BALANCE=on)(ADDRESS=(PROTOCOL=TCP)(HOST=host.sample.com)(PORT=39000)))(CONNECT_DATA=(SERVICE_NAME=DATABASESAMPLENAME))))', 'database': 'DATABASESAMPLENAME', 'identity': 'TOOLX_P', 'jdbcUseSSL': 'false', 'localTimezoneConversionEnabled': 'false', 'port': '39000', 'readonly': 'true', 'timezone': 'Europe/Amsterdam'}), ('config_full', {'connection': 'TOOLY_P', 'description': 'Get all config daily', 'disabled': True, 'host': 'host2.cinqict.nl', 'index': 'indexy', 'index_time_mode': 'current', 'interval': '0 4 * * *', 'max_rows': '1000000', 'mode': 'batch', 'query': 'SELECT * FROM \"OWNER\".\"CONFIG_SPLUNK\"', 'query_timeout': '300', 'source': 'tooly', 'sourcetype': 'tooly', 'connection_type': 'oracle_service', 'database': 'DATABASESAMPLENAMEY', 'identity': 'TOOLY_P', 'jdbcUseSSL': 'false', 'localTimezoneConversionEnabled': 'false', 'port': '39000', 'readonly': 'false'}), ('input_example01', {'connection': 'connA', 'description': 'description about this database connection', 'disabled': True, 'host': 'database.cinqict.nl', 'index': 'index01', 'index_time_mode': 'UID', 'input_timestamp_column_number': '11', 'interval': '*/5 * * * *', 'mode': 'batch', 'query': 'select UID,SUBSTRING(field,1,5000) AS Field from Database;', 'sourcetype': 'sourcetype01', 'connection_properties': '{}', 'connection_type': 'generic_mssql', 'database': 'databaseA', 'identity': 'TOOLY_P', 'jdbcUseSSL': 'false', 'port': '1433', 'readonly': 'true'}), ('input_example02', {'connection': 'connD', 'disabled': True, 'host': 'database-windows.cinqict.nl', 'index': 'index02', 'index_time_mode': 'current', 'interval': '0 * * * 1-5', 'mode': 'batch', 'query': 'SELECT count(DISTINCT USER) AS \"USERS\" FROM sys.v_$session S WHERE S.USERNAME NOT IN ( \\'SYS\\', \\'SYSTEM\\' ) AND S.USERNAME NOT LIKE USER  AND S.PROGRAM =\\'someprogram.exe\\' ORDER BY USER', 'source': 'source02', 'sourcetype': 'sourcetype02', 'connection_type': 'mssql_jtds_win_auth', 'database': 'Database01', 'identity': 'CONNZ', 'jdbcUseSSL': 'false', 'localTimezoneConversionEnabled': 'false', 'port': '1433', 'readonly': 'false'}), ('input_example03', {'connection': 'connC', 'host': 'database-oracle.cinqict.nl', 'index': 'index03', 'interval': '3600', 'max_rows': '1000', 'mode': 'batch', 'query': 'SELECT * FROM \"db\".\"dbo\".\"FunctionalUser\"', 'source': 'source03', 'sourcetype': 'sourcetype03', 'tail_rising_column_name': 'id', 'ui_query_catalog': 'db', 'ui_query_mode': 'simple', 'ui_query_schema': 'dbo', 'ui_query_table': 'FunctionalUser', 'fetch_size': '300', 'batch_upload_size': '1000', 'disabled': True, 'max_single_checkpoint_file_size': '10485760', 'query_timeout': '30', 'connection_type': 'oracle', 'database': 'testdatabase', 'identity': 'TOOLX_P', 'jdbcUseSSL': 'false', 'localTimezoneConversionEnabled': 'false', 'port': '9501', 'readonly': 'true', 'timezone': 'Europe/Amsterdam'})])"
      ]
     },
     "execution_count": 25,
     "metadata": {},
     "output_type": "execute_result"
    }
   ],
   "source": [
    "tomli_input"
   ]
  },
  {
   "cell_type": "markdown",
   "id": "d96b43fe-d7b8-4c2a-9cac-e9be13e21650",
   "metadata": {},
   "source": [
    "# Schemas that include aliases"
   ]
  },
  {
   "cell_type": "markdown",
   "id": "dfe21305-0c49-45c6-870f-f743852eea0a",
   "metadata": {},
   "source": [
    "## Inputs API Schema"
   ]
  },
  {
   "cell_type": "code",
   "execution_count": 6,
   "id": "d89e8ca5-90eb-4aa5-8992-3d6a7bc5cd5e",
   "metadata": {},
   "outputs": [],
   "source": [
    "from pydantic import BaseModel, Field, AliasChoices\n",
    "from typing import List, Optional\n",
    "schema = BaseModel"
   ]
  },
  {
   "cell_type": "markdown",
   "id": "ee8d0486-2d8e-49d7-9268-45484e9fdd09",
   "metadata": {},
   "source": [
    "get the right input schema according to curl. Include default values. Include aliases."
   ]
  },
  {
   "cell_type": "code",
   "execution_count": 44,
   "id": "154e8e4b-7ef9-43ed-884b-6d0d9f7353ad",
   "metadata": {},
   "outputs": [],
   "source": [
    "from pydantic import BaseModel, Field\n",
    "from typing import List, Optional\n",
    "from uuid import uuid4\n",
    "\n",
    "class Metadata(BaseModel):\n",
    "    name: str\n",
    "    value: str\n",
    "\n",
    "class Run(BaseModel):\n",
    "    mode: str\n",
    "\n",
    "class Schedule(BaseModel):\n",
    "    cronSchedule: str = Field(alias='interval')\n",
    "    run: Run\n",
    "    enabled: bool = Field(alias='disabled')\n",
    "\n",
    "class CollectorConf(BaseModel):\n",
    "    connectionId: str = Field(alias='connection')\n",
    "    query: str\n",
    "\n",
    "class Collector(BaseModel):\n",
    "    conf: CollectorConf\n",
    "    type: str = \"database\"\n",
    "\n",
    "class InputType(BaseModel):\n",
    "    type: str = \"collection\"\n",
    "    metadata: List[Metadata]\n",
    "\n",
    "class InputSchema(BaseModel):\n",
    "    type: Optional[str] = \"collection\"\n",
    "    schedule: Schedule\n",
    "    collector: Collector\n",
    "    input: InputType\n",
    "    id: Optional[str]\n",
    "\n",
    "# Transform `tomli_input` data to match `metadata` requirements\n",
    "def create_metadata(data):\n",
    "    return [\n",
    "        Metadata(name=\"host\", value=data[\"host\"]),\n",
    "        Metadata(name=\"index\", value=data[\"index\"]),\n",
    "        Metadata(name=\"source\", value=data.get(\"source\", \"\")),\n",
    "        Metadata(name=\"sourcetype\", value=data[\"sourcetype\"])\n",
    "    ]\n",
    "\n",
    "# Parsing tomli_input to create InputSchema instances\n",
    "result = [\n",
    "    InputSchema(\n",
    "        schedule=Schedule(\n",
    "            interval=row['interval'],\n",
    "            run=Run(mode=row['mode']),\n",
    "            disabled=row['disabled']\n",
    "        ),\n",
    "        collector=Collector(\n",
    "            conf=CollectorConf(\n",
    "                connection=row['connection'],\n",
    "                query=row['query']\n",
    "            )\n",
    "        ),\n",
    "        input=InputType(\n",
    "            metadata=create_metadata(row)\n",
    "        ),\n",
    "        id=f\"{key}-{uuid4()}\"\n",
    "    )\n",
    "    for key, row in tomli_input\n",
    "]\n"
   ]
  },
  {
   "cell_type": "code",
   "execution_count": 27,
   "id": "9e4cccf0-08bf-4699-9f7d-015eb1611fb2",
   "metadata": {},
   "outputs": [
    {
     "data": {
      "text/plain": [
       "InputSchema(type='collection', schedule=Schedule(cronSchedule='0 6 * * *', run=Run(mode='batch'), enabled=True), collector=Collector(conf=CollectorConf(connectionId='TOOLX_P', query='SELECT * FROM \"OWNER\".\"ASSIGNMENT_GROUPS_SPLUNK\"'), type='database'), input=InputType(type='collection', metadata=[Metadata(name='host', value='host.sample.com'), Metadata(name='index', value='indexx'), Metadata(name='source', value='toolx'), Metadata(name='sourcetype', value='assignmentgroups')]), id='assignmentgroups-6fcf76c9-fb7f-4712-8af0-eaa4602ae78d')"
      ]
     },
     "execution_count": 27,
     "metadata": {},
     "output_type": "execute_result"
    }
   ],
   "source": [
    "result[0]"
   ]
  },
  {
   "cell_type": "code",
   "execution_count": 28,
   "id": "ace3e4d4-71b3-4dac-9dea-12f236a77127",
   "metadata": {
    "collapsed": true,
    "jupyter": {
     "outputs_hidden": true,
     "source_hidden": true
    }
   },
   "outputs": [
    {
     "data": {
      "text/plain": [
       "[{'type': 'collection',\n",
       "  'schedule': {'cronSchedule': '0 6 * * *',\n",
       "   'run': {'mode': 'batch'},\n",
       "   'enabled': True},\n",
       "  'collector': {'conf': {'connectionId': 'TOOLX_P',\n",
       "    'query': 'SELECT * FROM \"OWNER\".\"ASSIGNMENT_GROUPS_SPLUNK\"'},\n",
       "   'type': 'database'},\n",
       "  'input': {'type': 'collection',\n",
       "   'metadata': [{'name': 'host', 'value': 'host.sample.com'},\n",
       "    {'name': 'index', 'value': 'indexx'},\n",
       "    {'name': 'source', 'value': 'toolx'},\n",
       "    {'name': 'sourcetype', 'value': 'assignmentgroups'}]},\n",
       "  'id': 'assignmentgroups-6fcf76c9-fb7f-4712-8af0-eaa4602ae78d'},\n",
       " {'type': 'collection',\n",
       "  'schedule': {'cronSchedule': '0 5 * * *',\n",
       "   'run': {'mode': 'batch'},\n",
       "   'enabled': True},\n",
       "  'collector': {'conf': {'connectionId': 'TOOLX_P',\n",
       "    'query': 'SELECT * FROM \"OWNER\".\"RELATIONSHIP_SPLUNK\"'},\n",
       "   'type': 'database'},\n",
       "  'input': {'type': 'collection',\n",
       "   'metadata': [{'name': 'host', 'value': 'host.sample.com'},\n",
       "    {'name': 'index', 'value': 'indexx'},\n",
       "    {'name': 'source', 'value': 'toolx'},\n",
       "    {'name': 'sourcetype', 'value': 'ci_relations'}]},\n",
       "  'id': 'CI_relations-421c807b-0b4c-453a-ade6-0c369f787253'},\n",
       " {'type': 'collection',\n",
       "  'schedule': {'cronSchedule': '0 4 * * *',\n",
       "   'run': {'mode': 'batch'},\n",
       "   'enabled': True},\n",
       "  'collector': {'conf': {'connectionId': 'TOOLY_P',\n",
       "    'query': 'SELECT * FROM \"OWNER\".\"CONFIG_SPLUNK\"'},\n",
       "   'type': 'database'},\n",
       "  'input': {'type': 'collection',\n",
       "   'metadata': [{'name': 'host', 'value': 'host2.cinqict.nl'},\n",
       "    {'name': 'index', 'value': 'indexy'},\n",
       "    {'name': 'source', 'value': 'tooly'},\n",
       "    {'name': 'sourcetype', 'value': 'tooly'}]},\n",
       "  'id': 'config_full-dca44b49-bc6f-4a8f-9d50-3b06a67e78df'},\n",
       " {'type': 'collection',\n",
       "  'schedule': {'cronSchedule': '*/5 * * * *',\n",
       "   'run': {'mode': 'batch'},\n",
       "   'enabled': True},\n",
       "  'collector': {'conf': {'connectionId': 'connA',\n",
       "    'query': 'select UID,SUBSTRING(field,1,5000) AS Field from Database;'},\n",
       "   'type': 'database'},\n",
       "  'input': {'type': 'collection',\n",
       "   'metadata': [{'name': 'host', 'value': 'database.cinqict.nl'},\n",
       "    {'name': 'index', 'value': 'index01'},\n",
       "    {'name': 'source', 'value': ''},\n",
       "    {'name': 'sourcetype', 'value': 'sourcetype01'}]},\n",
       "  'id': 'input_example01-0592e8e0-8605-46a5-b20b-08336f804566'},\n",
       " {'type': 'collection',\n",
       "  'schedule': {'cronSchedule': '0 * * * 1-5',\n",
       "   'run': {'mode': 'batch'},\n",
       "   'enabled': True},\n",
       "  'collector': {'conf': {'connectionId': 'connD',\n",
       "    'query': 'SELECT count(DISTINCT USER) AS \"USERS\" FROM sys.v_$session S WHERE S.USERNAME NOT IN ( \\'SYS\\', \\'SYSTEM\\' ) AND S.USERNAME NOT LIKE USER  AND S.PROGRAM =\\'someprogram.exe\\' ORDER BY USER'},\n",
       "   'type': 'database'},\n",
       "  'input': {'type': 'collection',\n",
       "   'metadata': [{'name': 'host', 'value': 'database-windows.cinqict.nl'},\n",
       "    {'name': 'index', 'value': 'index02'},\n",
       "    {'name': 'source', 'value': 'source02'},\n",
       "    {'name': 'sourcetype', 'value': 'sourcetype02'}]},\n",
       "  'id': 'input_example02-e91f7928-ffde-4827-9f3b-776a848c14e3'},\n",
       " {'type': 'collection',\n",
       "  'schedule': {'cronSchedule': '3600',\n",
       "   'run': {'mode': 'batch'},\n",
       "   'enabled': True},\n",
       "  'collector': {'conf': {'connectionId': 'connC',\n",
       "    'query': 'SELECT * FROM \"db\".\"dbo\".\"FunctionalUser\"'},\n",
       "   'type': 'database'},\n",
       "  'input': {'type': 'collection',\n",
       "   'metadata': [{'name': 'host', 'value': 'database-oracle.cinqict.nl'},\n",
       "    {'name': 'index', 'value': 'index03'},\n",
       "    {'name': 'source', 'value': 'source03'},\n",
       "    {'name': 'sourcetype', 'value': 'sourcetype03'}]},\n",
       "  'id': 'input_example03-72d15c21-3804-4365-a88b-858ef7df51d3'}]"
      ]
     },
     "execution_count": 28,
     "metadata": {},
     "output_type": "execute_result"
    }
   ],
   "source": [
    "def to_dict(obj):\n",
    "    \"\"\"Recursively converts an object to a dictionary.\"\"\"\n",
    "    if isinstance(obj, list):\n",
    "        return [to_dict(item) for item in obj]\n",
    "    elif hasattr(obj, \"__dict__\"):\n",
    "        result = {key: to_dict(value) for key, value in vars(obj).items()}\n",
    "        return result\n",
    "    else:\n",
    "        return obj\n",
    "\n",
    "input_schema_list = [to_dict(i) for i in result]\n",
    "for i, j in zip(input_schema_list, result):\n",
    "    i['input']['metadata'] = [\n",
    "    {'name': meta.name, 'value': meta.value} for meta in j.input.metadata\n",
    "]\n",
    "input_schema_list"
   ]
  },
  {
   "cell_type": "code",
   "execution_count": 45,
   "id": "c3633ca5-dcea-44b5-9a5a-bda69d9dc12c",
   "metadata": {},
   "outputs": [
    {
     "data": {
      "text/plain": [
       "[InputSchema(type='collection', schedule=Schedule(cronSchedule='0 6 * * *', run=Run(mode='batch'), enabled=True), collector=Collector(conf=CollectorConf(connectionId='TOOLX_P', query='SELECT * FROM \"OWNER\".\"ASSIGNMENT_GROUPS_SPLUNK\"'), type='database'), input=InputType(type='collection', metadata=[{'name': 'host', 'value': 'host.sample.com'}, {'name': 'index', 'value': 'indexx'}, {'name': 'source', 'value': 'toolx'}, {'name': 'sourcetype', 'value': 'assignmentgroups'}]), id='assignmentgroups-739e3e33-c6b9-4aa8-95e4-bafcca2c66d6'),\n",
       " InputSchema(type='collection', schedule=Schedule(cronSchedule='0 5 * * *', run=Run(mode='batch'), enabled=True), collector=Collector(conf=CollectorConf(connectionId='TOOLX_P', query='SELECT * FROM \"OWNER\".\"RELATIONSHIP_SPLUNK\"'), type='database'), input=InputType(type='collection', metadata=[{'name': 'host', 'value': 'host.sample.com'}, {'name': 'index', 'value': 'indexx'}, {'name': 'source', 'value': 'toolx'}, {'name': 'sourcetype', 'value': 'ci_relations'}]), id='CI_relations-3c90cbbd-2f93-4ab8-8f99-4d955f5c468c'),\n",
       " InputSchema(type='collection', schedule=Schedule(cronSchedule='0 4 * * *', run=Run(mode='batch'), enabled=True), collector=Collector(conf=CollectorConf(connectionId='TOOLY_P', query='SELECT * FROM \"OWNER\".\"CONFIG_SPLUNK\"'), type='database'), input=InputType(type='collection', metadata=[{'name': 'host', 'value': 'host2.cinqict.nl'}, {'name': 'index', 'value': 'indexy'}, {'name': 'source', 'value': 'tooly'}, {'name': 'sourcetype', 'value': 'tooly'}]), id='config_full-b35037e8-ac96-480d-abf7-d9640ebf8c28'),\n",
       " InputSchema(type='collection', schedule=Schedule(cronSchedule='*/5 * * * *', run=Run(mode='batch'), enabled=True), collector=Collector(conf=CollectorConf(connectionId='connA', query='select UID,SUBSTRING(field,1,5000) AS Field from Database;'), type='database'), input=InputType(type='collection', metadata=[{'name': 'host', 'value': 'database.cinqict.nl'}, {'name': 'index', 'value': 'index01'}, {'name': 'source', 'value': ''}, {'name': 'sourcetype', 'value': 'sourcetype01'}]), id='input_example01-c1e28c8f-d944-4bf2-a01c-cabe4a93b99b'),\n",
       " InputSchema(type='collection', schedule=Schedule(cronSchedule='0 * * * 1-5', run=Run(mode='batch'), enabled=True), collector=Collector(conf=CollectorConf(connectionId='connD', query='SELECT count(DISTINCT USER) AS \"USERS\" FROM sys.v_$session S WHERE S.USERNAME NOT IN ( \\'SYS\\', \\'SYSTEM\\' ) AND S.USERNAME NOT LIKE USER  AND S.PROGRAM =\\'someprogram.exe\\' ORDER BY USER'), type='database'), input=InputType(type='collection', metadata=[{'name': 'host', 'value': 'database-windows.cinqict.nl'}, {'name': 'index', 'value': 'index02'}, {'name': 'source', 'value': 'source02'}, {'name': 'sourcetype', 'value': 'sourcetype02'}]), id='input_example02-95772d86-d313-4785-9d78-d49dd84a3902'),\n",
       " InputSchema(type='collection', schedule=Schedule(cronSchedule='3600', run=Run(mode='batch'), enabled=True), collector=Collector(conf=CollectorConf(connectionId='connC', query='SELECT * FROM \"db\".\"dbo\".\"FunctionalUser\"'), type='database'), input=InputType(type='collection', metadata=[{'name': 'host', 'value': 'database-oracle.cinqict.nl'}, {'name': 'index', 'value': 'index03'}, {'name': 'source', 'value': 'source03'}, {'name': 'sourcetype', 'value': 'sourcetype03'}]), id='input_example03-63f2af91-e635-4629-a6ea-f3addea2610d')]"
      ]
     },
     "execution_count": 45,
     "metadata": {},
     "output_type": "execute_result"
    }
   ],
   "source": [
    "for i in result:\n",
    "    i.input.metadata = [{'name': meta.name, 'value': meta.value} for meta in i.input.metadata]\n",
    "\n",
    "result\n"
   ]
  },
  {
   "cell_type": "code",
   "execution_count": 53,
   "id": "f2841ca5-da00-432b-99c7-8a621f2ad594",
   "metadata": {},
   "outputs": [
    {
     "data": {
      "text/plain": [
       "'SELECT * FROM \"OWNER\".\"ASSIGNMENT_GROUPS_SPLUNK\"'"
      ]
     },
     "execution_count": 53,
     "metadata": {},
     "output_type": "execute_result"
    }
   ],
   "source": [
    "result[0].collector.conf.query"
   ]
  },
  {
   "cell_type": "code",
   "execution_count": 54,
   "id": "5851515c-ff27-41e6-95b8-a785aa6a9254",
   "metadata": {},
   "outputs": [
    {
     "name": "stdout",
     "output_type": "stream",
     "text": [
      "[InputSchema(type='collection', schedule=Schedule(cronSchedule='0 6 * * *', run=Run(mode='batch'), enabled=True), collector=Collector(conf=CollectorConf(connectionId='TOOLX_P', query='`SELECT * FROM \\\\\"OWNER\\\\\".\\\\\"ASSIGNMENT_GROUPS_SPLUNK\\\\\"`'), type='database'), input=InputType(type='collection', metadata=[{'name': 'host', 'value': 'host.sample.com'}, {'name': 'index', 'value': 'indexx'}, {'name': 'source', 'value': 'toolx'}, {'name': 'sourcetype', 'value': 'assignmentgroups'}]), id='assignmentgroups-739e3e33-c6b9-4aa8-95e4-bafcca2c66d6'), InputSchema(type='collection', schedule=Schedule(cronSchedule='0 5 * * *', run=Run(mode='batch'), enabled=True), collector=Collector(conf=CollectorConf(connectionId='TOOLX_P', query='`SELECT * FROM \\\\\"OWNER\\\\\".\\\\\"RELATIONSHIP_SPLUNK\\\\\"`'), type='database'), input=InputType(type='collection', metadata=[{'name': 'host', 'value': 'host.sample.com'}, {'name': 'index', 'value': 'indexx'}, {'name': 'source', 'value': 'toolx'}, {'name': 'sourcetype', 'value': 'ci_relations'}]), id='CI_relations-3c90cbbd-2f93-4ab8-8f99-4d955f5c468c'), InputSchema(type='collection', schedule=Schedule(cronSchedule='0 4 * * *', run=Run(mode='batch'), enabled=True), collector=Collector(conf=CollectorConf(connectionId='TOOLY_P', query='`SELECT * FROM \\\\\"OWNER\\\\\".\\\\\"CONFIG_SPLUNK\\\\\"`'), type='database'), input=InputType(type='collection', metadata=[{'name': 'host', 'value': 'host2.cinqict.nl'}, {'name': 'index', 'value': 'indexy'}, {'name': 'source', 'value': 'tooly'}, {'name': 'sourcetype', 'value': 'tooly'}]), id='config_full-b35037e8-ac96-480d-abf7-d9640ebf8c28'), InputSchema(type='collection', schedule=Schedule(cronSchedule='*/5 * * * *', run=Run(mode='batch'), enabled=True), collector=Collector(conf=CollectorConf(connectionId='connA', query='`select UID,SUBSTRING(field,1,5000) AS Field from Database;`'), type='database'), input=InputType(type='collection', metadata=[{'name': 'host', 'value': 'database.cinqict.nl'}, {'name': 'index', 'value': 'index01'}, {'name': 'source', 'value': ''}, {'name': 'sourcetype', 'value': 'sourcetype01'}]), id='input_example01-c1e28c8f-d944-4bf2-a01c-cabe4a93b99b'), InputSchema(type='collection', schedule=Schedule(cronSchedule='0 * * * 1-5', run=Run(mode='batch'), enabled=True), collector=Collector(conf=CollectorConf(connectionId='connD', query='`SELECT count(DISTINCT USER) AS \\\\\"USERS\\\\\" FROM sys.v_$session S WHERE S.USERNAME NOT IN ( \\'SYS\\', \\'SYSTEM\\' ) AND S.USERNAME NOT LIKE USER  AND S.PROGRAM =\\'someprogram.exe\\' ORDER BY USER`'), type='database'), input=InputType(type='collection', metadata=[{'name': 'host', 'value': 'database-windows.cinqict.nl'}, {'name': 'index', 'value': 'index02'}, {'name': 'source', 'value': 'source02'}, {'name': 'sourcetype', 'value': 'sourcetype02'}]), id='input_example02-95772d86-d313-4785-9d78-d49dd84a3902'), InputSchema(type='collection', schedule=Schedule(cronSchedule='3600', run=Run(mode='batch'), enabled=True), collector=Collector(conf=CollectorConf(connectionId='connC', query='`SELECT * FROM \\\\\"db\\\\\".\\\\\"dbo\\\\\".\\\\\"FunctionalUser\\\\\"`'), type='database'), input=InputType(type='collection', metadata=[{'name': 'host', 'value': 'database-oracle.cinqict.nl'}, {'name': 'index', 'value': 'index03'}, {'name': 'source', 'value': 'source03'}, {'name': 'sourcetype', 'value': 'sourcetype03'}]), id='input_example03-63f2af91-e635-4629-a6ea-f3addea2610d')]\n"
     ]
    }
   ],
   "source": [
    "def transform_to_js_expression(query: str) -> str:\n",
    "    \"\"\"\n",
    "    Transforms a SQL query string into a valid JavaScript expression\n",
    "    for Cribl, enclosed in backticks.\n",
    "    \"\"\"\n",
    "    # Escape double quotes for JavaScript compatibility\n",
    "    escaped_query = query.replace('\"', '\\\\\"')\n",
    "    # Wrap the query in backticks\n",
    "    js_expression = f\"`{escaped_query}`\"\n",
    "    return js_expression\n",
    "\n",
    "for i in result:\n",
    "    i.collector.conf.query = transform_to_js_expression(i.collector.conf.query)\n",
    "\n",
    "print(result)\n"
   ]
  },
  {
   "cell_type": "code",
   "execution_count": 10,
   "id": "c39c77a7-cb32-4c8c-a80e-53e525e92dfd",
   "metadata": {},
   "outputs": [
    {
     "data": {
      "text/plain": [
       "{'items': [{'type': 'collection',\n",
       "   'schedule': {'cronSchedule': '0 6 * * *',\n",
       "    'run': {'mode': 'batch'},\n",
       "    'enabled': True},\n",
       "   'collector': {'conf': {'connectionId': 'default_connection',\n",
       "     'query': '\"SELECT * FROM OWNER.CONFIG_SPLUNK\"'},\n",
       "    'type': 'database'},\n",
       "   'input': {'type': 'collection',\n",
       "    'metadata': [{'name': 'index', 'value': 'default_index'},\n",
       "     {'name': 'sourcetype', 'value': 'default_sourcetype'},\n",
       "     {'name': 'source', 'value': 'default_source'}]},\n",
       "   'connection': 'TOOLX_P',\n",
       "   'disabled': 0,\n",
       "   'host': 'host1',\n",
       "   'index': 'indexx',\n",
       "   'index_time_mode': 'current',\n",
       "   'interval': '0 5 * * *',\n",
       "   'max_rows': 1000000,\n",
       "   'mode': 'batch',\n",
       "   'query': 'SELECT * FROM \"OWNER\".\"RELATIONSHIP_SPLUNK\"',\n",
       "   'source': 'toolx',\n",
       "   'sourcetype': 'ci_relations',\n",
       "   'id': 'CI_relations-ecdb0b99-e8ec-4a60-9c03-b6042c84671d',\n",
       "   'history': [],\n",
       "   'savedState': {}}],\n",
       " 'count': 1}"
      ]
     },
     "execution_count": 10,
     "metadata": {},
     "output_type": "execute_result"
    }
   ],
   "source": [
    "[InputSchema(type='collection', schedule=Schedule(cronSchedule='0 6 * * *', run=Run(mode='batch'), enabled=True), collector=Collector(conf=CollectorConf(connectionId='TOOLX_P', query='SELECT * FROM \"OWNER\".\"ASSIGNMENT_GROUPS_SPLUNK\"'), type='database'), input=InputType(type='collection', metadata=[{'name': 'host', 'value': 'host.sample.com'}, {'name': 'index', 'value': 'indexx'}, {'name': 'source', 'value': 'toolx'}, {'name': 'sourcetype', 'value': 'assignmentgroups'}]), id='assignmentgroups-6e2e8df4-704b-4b79-a2b8-7203b99f0407'), InputSchema(type='collection', schedule=Schedule(cronSchedule='0 5 * * *', run=Run(mode='batch'), enabled=True), collector=Collector(conf=CollectorConf(connectionId='TOOLX_P', query='SELECT * FROM \"OWNER\".\"RELATIONSHIP_SPLUNK\"'), type='database'), input=InputType(type='collection', metadata=[{'name': 'host', 'value': 'host.sample.com'}, {'name': 'index', 'value': 'indexx'}, {'name': 'source', 'value': 'toolx'}, {'name': 'sourcetype', 'value': 'ci_relations'}]), id='CI_relations-225e5433-1d2a-40a1-8b1c-83dd48f36051'), InputSchema(type='collection', schedule=Schedule(cronSchedule='0 4 * * *', run=Run(mode='batch'), enabled=True), collector=Collector(conf=CollectorConf(connectionId='TOOLY_P', query='SELECT * FROM \"OWNER\".\"CONFIG_SPLUNK\"'), type='database'), input=InputType(type='collection', metadata=[{'name': 'host', 'value': 'host2.cinqict.nl'}, {'name': 'index', 'value': 'indexy'}, {'name': 'source', 'value': 'tooly'}, {'name': 'sourcetype', 'value': 'tooly'}]), id='config_full-399206e8-6513-4719-ba83-e7330bc3396c'), InputSchema(type='collection', schedule=Schedule(cronSchedule='*/5 * * * *', run=Run(mode='batch'), enabled=True), collector=Collector(conf=CollectorConf(connectionId='connA', query='select UID,SUBSTRING(field,1,5000) AS Field from Database;'), type='database'), input=InputType(type='collection', metadata=[{'name': 'host', 'value': 'database.cinqict.nl'}, {'name': 'index', 'value': 'index01'}, {'name': 'source', 'value': ''}, {'name': 'sourcetype', 'value': 'sourcetype01'}]), id='input_example01-2a91a25b-5617-4a40-9364-655bc4558f32'), InputSchema(type='collection', schedule=Schedule(cronSchedule='0 * * * 1-5', run=Run(mode='batch'), enabled=True), collector=Collector(conf=CollectorConf(connectionId='connD', query='SELECT count(DISTINCT USER) AS \"USERS\" FROM sys.v_$session S WHERE S.USERNAME NOT IN ( \\'SYS\\', \\'SYSTEM\\' ) AND S.USERNAME NOT LIKE USER  AND S.PROGRAM =\\'someprogram.exe\\' ORDER BY USER'), type='database'), input=InputType(type='collection', metadata=[{'name': 'host', 'value': 'database-windows.cinqict.nl'}, {'name': 'index', 'value': 'index02'}, {'name': 'source', 'value': 'source02'}, {'name': 'sourcetype', 'value': 'sourcetype02'}]), id='input_example02-62991461-438b-43d1-9ac1-ed4f1685d2a3'), InputSchema(type='collection', schedule=Schedule(cronSchedule='3600', run=Run(mode='batch'), enabled=True), collector=Collector(conf=CollectorConf(connectionId='connC', query='SELECT * FROM \"db\".\"dbo\".\"FunctionalUser\"'), type='database'), input=InputType(type='collection', metadata=[{'name': 'host', 'value': 'database-oracle.cinqict.nl'}, {'name': 'index', 'value': 'index03'}, {'name': 'source', 'value': 'source03'}, {'name': 'sourcetype', 'value': 'sourcetype03'}]), id='input_example03-5e85b0ec-e3f5-4528-839e-2a3e397fe968')]\n",
    "[{'status': 'error', 'message': 'Failed to post new input. Response: {\\'status\\': \\'error\\', \\'message\\': \\'[{\"keyword\":\"jsExpression\",\"message\":\"Unexpected string\",\"dataPath\":\"/query\",\"params\":{\"expression\":\"SELECT * FROM \\\\\\\\\"OWNER\\\\\\\\\".\\\\\\\\\"ASSIGNMENT_GROUPS_SPLUNK\\\\\\\\\"\"},\"schemaPath\":\"#/properties/query/jsExpression\"}]\\'}'}, {'status': 'error', 'message': 'Failed to post new input. Response: {\\'status\\': \\'error\\', \\'message\\': \\'[{\"keyword\":\"jsExpression\",\"message\":\"Unexpected string\",\"dataPath\":\"/query\",\"params\":{\"expression\":\"SELECT * FROM \\\\\\\\\"OWNER\\\\\\\\\".\\\\\\\\\"RELATIONSHIP_SPLUNK\\\\\\\\\"\"},\"schemaPath\":\"#/properties/query/jsExpression\"}]\\'}'}, {'status': 'error', 'message': 'Failed to post new input. Response: {\\'status\\': \\'error\\', \\'message\\': \\'[{\"keyword\":\"jsExpression\",\"message\":\"Unexpected string\",\"dataPath\":\"/query\",\"params\":{\"expression\":\"SELECT * FROM \\\\\\\\\"OWNER\\\\\\\\\".\\\\\\\\\"CONFIG_SPLUNK\\\\\\\\\"\"},\"schemaPath\":\"#/properties/query/jsExpression\"}]\\'}'}, {'status': 'error', 'message': 'Failed to post new input. Response: {\\'status\\': \\'error\\', \\'message\\': \\'[{\"keyword\":\"jsExpression\",\"message\":\"Unexpected identifier\",\"dataPath\":\"/query\",\"params\":{\"expression\":\"select UID,SUBSTRING(field,1,5000) AS Field from Database;\"},\"schemaPath\":\"#/properties/query/jsExpression\"}]\\'}'}, {'status': 'error', 'message': 'Failed to post new input. Response: {\\'status\\': \\'error\\', \\'message\\': \\'[{\"keyword\":\"jsExpression\",\"message\":\"Unexpected identifier\",\"dataPath\":\"/query\",\"params\":{\"expression\":\"SELECT count(DISTINCT USER) AS \\\\\\\\\"USERS\\\\\\\\\" FROM sys.v_$session S WHERE S.USERNAME NOT IN ( \\\\\\'SYS\\\\\\', \\\\\\'SYSTEM\\\\\\' ) AND S.USERNAME NOT LIKE USER  AND S.PROGRAM =\\\\\\'someprogram.exe\\\\\\' ORDER BY USER\"},\"schemaPath\":\"#/properties/query/jsExpression\"}]\\'}'}, {'status': 'error', 'message': 'Failed to post new input. Response: {\\'status\\': \\'error\\', \\'message\\': \\'[{\"keyword\":\"jsExpression\",\"message\":\"Unexpected string\",\"dataPath\":\"/query\",\"params\":{\"expression\":\"SELECT * FROM \\\\\\\\\"db\\\\\\\\\".\\\\\\\\\"dbo\\\\\\\\\".\\\\\\\\\"FunctionalUser\\\\\\\\\"\"},\"schemaPath\":\"#/properties/query/jsExpression\"}]\\'}'}]\n"
   ]
  },
  {
   "cell_type": "code",
   "execution_count": null,
   "id": "72ab63fc-9e3b-45f9-a7de-73f8400ebfcf",
   "metadata": {},
   "outputs": [],
   "source": []
  },
  {
   "cell_type": "code",
   "execution_count": null,
   "id": "8b0200e0-ca5e-4db3-8c48-1f7d9bfd939b",
   "metadata": {},
   "outputs": [],
   "source": [
    "class ConnectionSchema(Basemodel):\n",
    "    id: str\n",
    "    databaseType: str\n",
    "    username: str\n",
    "    password: str\n",
    "    connectionString: str | None = None\n",
    "    database: str\n",
    "    disabled: int\n",
    "    host: str\n",
    "    identity: str\n",
    "    jdbcUseSSL: bool\n",
    "    localTimezoneConversionEnabled: bool\n",
    "    port: int\n",
    "    readonly: bool\n",
    "    timezone: str | None = None\n",
    "    "
   ]
  },
  {
   "cell_type": "markdown",
   "id": "d5b64f4f-145a-4545-a024-3a36fed41b27",
   "metadata": {},
   "source": []
  },
  {
   "cell_type": "code",
   "execution_count": 59,
   "id": "eb9fbd94-e3bc-4d3f-9c9e-5eea95884509",
   "metadata": {},
   "outputs": [
    {
     "name": "stdout",
     "output_type": "stream",
     "text": [
      "Interval: 0 6 * * *, Is Cron Format: False\n",
      "Interval: */5 * * * *, Is Cron Format: False\n",
      "Interval: 0 5 * * *, Is Cron Format: False\n",
      "Interval: 0 * * * 1-5, Is Cron Format: False\n",
      "Interval: 3600, Is Cron Format: False\n"
     ]
    }
   ],
   "source": [
    "import re\n",
    "\n",
    "def is_cron_format(value: str) -> bool:\n",
    "    \"\"\"\n",
    "    Check if the given value is in a valid cron schedule format.\n",
    "\n",
    "    Parameters\n",
    "    ----------\n",
    "    value : str\n",
    "        The value to check.\n",
    "\n",
    "    Returns\n",
    "    -------\n",
    "    bool\n",
    "        True if the value is a valid cron schedule format, False otherwise.\n",
    "    \"\"\"\n",
    "    if value.isdigit():\n",
    "        return False\n",
    "\n",
    "    # Cron schedule regex: Matches standard cron patterns\n",
    "    cron_regex = r'^(\\*|([0-5]?\\d)) (\\*|([01]?\\d|2[0-3])) (\\*|([0-2]?\\d)) (\\*|([1-7]))$|^@(?:yearly|annually|monthly|weekly|daily|hourly)$'\n",
    "    \n",
    "    return bool(re.match(cron_regex, value.strip()))\n",
    "\n",
    "# Example Test Cases\n",
    "intervals = [\n",
    "    \"0 6 * * *\",  # Valid cron\n",
    "    \"*/5 * * * *\",  # Valid cron\n",
    "    \"0 5 * * *\",  # Valid cron\n",
    "    \"0 * * * 1-5\",  # Valid cron\n",
    "    \"3600\"  # Invalid (numeric interval)\n",
    "]\n",
    "\n",
    "# Test the function\n",
    "for interval in intervals:\n",
    "    print(f\"Interval: {interval}, Is Cron Format: {is_cron_format(interval)}\")\n"
   ]
  },
  {
   "cell_type": "code",
   "execution_count": 58,
   "id": "c1efc001-23a1-4aaf-9ca1-b3259f6d664b",
   "metadata": {},
   "outputs": [
    {
     "data": {
      "text/plain": [
       "False"
      ]
     },
     "execution_count": 58,
     "metadata": {},
     "output_type": "execute_result"
    }
   ],
   "source": [
    "is_cron_format('*/5 * * * *')"
   ]
  },
  {
   "cell_type": "markdown",
   "id": "5537f43a-f26f-4902-817e-fd75f7fb22aa",
   "metadata": {},
   "source": [
    "# Two load functions, one for the Iputs and one for Connections"
   ]
  },
  {
   "cell_type": "code",
   "execution_count": null,
   "id": "268e1f3b-4a4c-48c1-ad5e-6c736a8e1610",
   "metadata": {},
   "outputs": [],
   "source": []
  }
 ],
 "metadata": {
  "kernelspec": {
   "display_name": "Python (miniforge3)",
   "language": "python",
   "name": "miniforge3"
  },
  "language_info": {
   "codemirror_mode": {
    "name": "ipython",
    "version": 3
   },
   "file_extension": ".py",
   "mimetype": "text/x-python",
   "name": "python",
   "nbconvert_exporter": "python",
   "pygments_lexer": "ipython3",
   "version": "3.10.6"
  }
 },
 "nbformat": 4,
 "nbformat_minor": 5
}
